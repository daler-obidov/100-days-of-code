{
  "nbformat": 4,
  "nbformat_minor": 0,
  "metadata": {
    "colab": {
      "provenance": [],
      "authorship_tag": "ABX9TyP/aLnGu9gL9+S4Kfd70ytI",
      "include_colab_link": true
    },
    "kernelspec": {
      "name": "python3",
      "display_name": "Python 3"
    },
    "language_info": {
      "name": "python"
    }
  },
  "cells": [
    {
      "cell_type": "markdown",
      "metadata": {
        "id": "view-in-github",
        "colab_type": "text"
      },
      "source": [
        "<a href=\"https://colab.research.google.com/github/daler-obidov/100-days-of-code/blob/main/day-8.ipynb\" target=\"_parent\"><img src=\"https://colab.research.google.com/assets/colab-badge.svg\" alt=\"Open In Colab\"/></a>"
      ]
    },
    {
      "cell_type": "code",
      "execution_count": 11,
      "metadata": {
        "colab": {
          "base_uri": "https://localhost:8080/"
        },
        "id": "ZsH9xYdU720R",
        "outputId": "5a3d914f-c185-4189-b908-45ffb2c92cd2"
      },
      "outputs": [
        {
          "output_type": "stream",
          "name": "stdout",
          "text": [
            "Hello Daler\n",
            "What is it like in America\n"
          ]
        }
      ],
      "source": [
        "\n",
        "def greet():\n",
        "  print(\"Hello\")\n",
        "  print(\"How is it going?\")\n",
        "  print(\"Isn't the weather nice today?\")\n",
        "greet()\n",
        "\n",
        "def greet_with_name(name):\n",
        "  print(f'Hello {name}!')\n",
        "  print(f'How r u doing {name}?')\n",
        "\n",
        "greet_with_name(\"Daler\")\n",
        "\n",
        "def greet_with(name, location):\n",
        "  print(f'Hello {name}')\n",
        "  print(f'What is it like in {location}')\n",
        "greet_with(\"Daler\", \"America\")\n",
        "\n",
        "def greet_with(name, location):\n",
        "  print(f'Hello {name}')\n",
        "  print(f'What is it like in {location}')\n",
        "greet_with(location = \"America\", name = \"Daler\")"
      ]
    },
    {
      "cell_type": "code",
      "source": [
        "import math\n",
        "def paint_calc(height, width, cover):\n",
        "  cans = (height * width) / cover\n",
        "  rounded_up_cans = (int(math.ceil(cans)))\n",
        "  print(f\"You'll need {rounded_up_cans} cans of paint.\")\n",
        "\n",
        "\n",
        "\n",
        "test_h = int(input()) # Height of wall (m)\n",
        "test_w = int(input()) # Width of wall (m)\n",
        "coverage = 5\n",
        "paint_calc(height=test_h, width=test_w, cover=coverage)"
      ],
      "metadata": {
        "colab": {
          "base_uri": "https://localhost:8080/"
        },
        "id": "e2pPV7fDEAx7",
        "outputId": "cf9d41ef-ea19-449d-fc93-f9622a55b8b4"
      },
      "execution_count": 12,
      "outputs": [
        {
          "output_type": "stream",
          "name": "stdout",
          "text": [
            "5\n",
            "6\n",
            "You'll need 6 cans of paint.\n"
          ]
        }
      ]
    },
    {
      "cell_type": "code",
      "source": [
        "def prime_checker(number):\n",
        "  prime = True\n",
        "  for i in range(2, number):\n",
        "    if number % i == 0:\n",
        "      prime = False\n",
        "  if prime:\n",
        "    print(\"It's a prime number.\")\n",
        "  else:\n",
        "    print(\"It's not a prime number.\")\n",
        "\n",
        "n = int(input()) # Check this number\n",
        "prime_checker(number=n)"
      ],
      "metadata": {
        "colab": {
          "base_uri": "https://localhost:8080/"
        },
        "id": "787nkVX5G59T",
        "outputId": "cc2f0faf-b153-44fc-c7d8-aa8d614369cb"
      },
      "execution_count": 13,
      "outputs": [
        {
          "output_type": "stream",
          "name": "stdout",
          "text": [
            "7625\n",
            "It's not a prime number.\n"
          ]
        }
      ]
    },
    {
      "cell_type": "code",
      "source": [
        "\n",
        "logo = \"\"\"\n",
        " ,adPPYba, ,adPPYYba,  ,adPPYba, ,adPPYba, ,adPPYYba, 8b,dPPYba,\n",
        "a8\"     \"\" \"\"     `Y8 a8P_____88 I8[    \"\" \"\"     `Y8 88P'   \"Y8\n",
        "8b         ,adPPPPP88 8PP\"\"\"\"\"\"\"  `\"Y8ba,  ,adPPPPP88 88\n",
        "\"8a,   ,aa 88,    ,88 \"8b,   ,aa aa    ]8I 88,    ,88 88\n",
        " `\"Ybbd8\"' `\"8bbdP\"Y8  `\"Ybbd8\"' `\"YbbdP\"' `\"8bbdP\"Y8 88\n",
        "            88             88\n",
        "           \"\"             88\n",
        "                          88\n",
        " ,adPPYba, 88 8b,dPPYba,  88,dPPYba,   ,adPPYba, 8b,dPPYba,\n",
        "a8\"     \"\" 88 88P'    \"8a 88P'    \"8a a8P_____88 88P'   \"Y8\n",
        "8b         88 88       d8 88       88 8PP\"\"\"\"\"\"\" 88\n",
        "\"8a,   ,aa 88 88b,   ,a8\" 88       88 \"8b,   ,aa 88\n",
        " `\"Ybbd8\"' 88 88`YbbdP\"'  88       88  `\"Ybbd8\"' 88\n",
        "              88\n",
        "              88\n",
        "\"\"\"\n",
        "print(logo)\n",
        "\n",
        "alphabet = ['a', 'b', 'c', 'd', 'e', 'f', 'g', 'h', 'i', 'j', 'k', 'l', 'm', 'n', 'o', 'p', 'q', 'r', 's', 't', 'u', 'v', 'w', 'x', 'y', 'z']\n",
        "\n",
        "what_to_do = input(\"Type 'encode' to encrypt, type 'decode' to decrypt:\\n\")\n",
        "text = input(\"Type your message:\\n\").lower()\n",
        "shift = int(input(\"Type the shift number:\\n\"))\n",
        "shift = shift % 26\n",
        "\n",
        "if what_to_do == \"encode\":\n",
        "  def encrypt(plain_text, shift_amount):\n",
        "\n",
        "    cipher_text = \"\"\n",
        "    for char in plain_text:\n",
        "\n",
        "      position = alphabet.index(char)\n",
        "      new_position = position + shift_amount\n",
        "      cipher_text += alphabet[new_position]\n",
        "    print(f\"The encoded text is {cipher_text}\")\n",
        "  encrypt(plain_text=text, shift_amount=shift)\n",
        "\n",
        "\n",
        "if what_to_do == \"decode\":\n",
        "  def decrypt(cipher_text, shift_amount):\n",
        "    plain_text = \"\"\n",
        "    print(\"The decoded text is:\")\n",
        "    for char in cipher_text:\n",
        "\n",
        "      position = alphabet.index(char)\n",
        "      new_position = position - shift_amount\n",
        "      plain_text += alphabet[new_position]\n",
        "    print(plain_text)\n",
        "  decrypt(cipher_text=text, shift_amount=shift)\n",
        "\n",
        "\n"
      ],
      "metadata": {
        "colab": {
          "base_uri": "https://localhost:8080/"
        },
        "id": "D-YAI2-GHyEi",
        "outputId": "86f14601-9085-4362-c958-50a64687c700"
      },
      "execution_count": 71,
      "outputs": [
        {
          "output_type": "stream",
          "name": "stdout",
          "text": [
            "           \n",
            " ,adPPYba, ,adPPYYba,  ,adPPYba, ,adPPYba, ,adPPYYba, 8b,dPPYba,  \n",
            "a8\"     \"\" \"\"     `Y8 a8P_____88 I8[    \"\" \"\"     `Y8 88P'   \"Y8  \n",
            "8b         ,adPPPPP88 8PP\"  `\"Y8ba,  ,adPPPPP88 88          \n",
            "\"8a,   ,aa 88,    ,88 \"8b,   ,aa aa    ]8I 88,    ,88 88          \n",
            " `\"Ybbd8\"' `\"8bbdP\"Y8  `\"Ybbd8\"' `\"YbbdP\"' `\"8bbdP\"Y8 88   \n",
            "            88             88                                 \n",
            "           \"\"             88                                 \n",
            "                          88                                 \n",
            " ,adPPYba, 88 8b,dPPYba,  88,dPPYba,   ,adPPYba, 8b,dPPYba,  \n",
            "a8\"     \"\" 88 88P'    \"8a 88P'    \"8a a8P_____88 88P'   \"Y8  \n",
            "8b         88 88       d8 88       88 8PP\" 88          \n",
            "\"8a,   ,aa 88 88b,   ,a8\" 88       88 \"8b,   ,aa 88          \n",
            " `\"Ybbd8\"' 88 88`YbbdP\"'  88       88  `\"Ybbd8\"' 88          \n",
            "              88                                             \n",
            "              88           \n",
            "\n",
            "Type 'encode' to encrypt, type 'decode' to decrypt:\n",
            "encode\n",
            "Type your message:\n",
            "man\n",
            "Type the shift number:\n",
            "10\n",
            "The encoded text is wkx\n"
          ]
        }
      ]
    },
    {
      "cell_type": "code",
      "source": [
        "logo = \"\"\"\n",
        " ,adPPYba, ,adPPYYba,  ,adPPYba, ,adPPYba, ,adPPYYba, 8b,dPPYba,\n",
        "a8\"     \"\" \"\"     `Y8 a8P_____88 I8[    \"\" \"\"     `Y8 88P'   \"Y8\n",
        "8b         ,adPPPPP88 8PP\"\"\"\"\"\"\"  `\"Y8ba,  ,adPPPPP88 88\n",
        "\"8a,   ,aa 88,    ,88 \"8b,   ,aa aa    ]8I 88,    ,88 88\n",
        " `\"Ybbd8\"' `\"8bbdP\"Y8  `\"Ybbd8\"' `\"YbbdP\"' `\"8bbdP\"Y8 88\n",
        "            88             88\n",
        "           \"\"             88\n",
        "                          88\n",
        " ,adPPYba, 88 8b,dPPYba,  88,dPPYba,   ,adPPYba, 8b,dPPYba,\n",
        "a8\"     \"\" 88 88P'    \"8a 88P'    \"8a a8P_____88 88P'   \"Y8\n",
        "8b         88 88       d8 88       88 8PP\"\"\"\"\"\"\" 88\n",
        "\"8a,   ,aa 88 88b,   ,a8\" 88       88 \"8b,   ,aa 88\n",
        " `\"Ybbd8\"' 88 88`YbbdP\"'  88       88  `\"Ybbd8\"' 88\n",
        "              88\n",
        "              88\n",
        "\"\"\"\n",
        "print(logo)\n",
        "alphabet = ['a', 'b', 'c', 'd', 'e', 'f', 'g', 'h', 'i', 'j', 'k', 'l', 'm', 'n', 'o', 'p', 'q', 'r', 's', 't', 'u', 'v', 'w', 'x', 'y', 'z', 'a', 'b', 'c', 'd', 'e', 'f', 'g', 'h', 'i', 'j', 'k', 'l', 'm', 'n', 'o', 'p', 'q', 'r', 's', 't', 'u', 'v', 'w', 'x', 'y', 'z']\n",
        "\n",
        "def caesar(start_text, shift_amount, cipher_direction):\n",
        "  end_text = \"\"\n",
        "  if cipher_direction == \"decode\":\n",
        "    shift_amount *= -1\n",
        "  for char in start_text:\n",
        "    if char in alphabet:\n",
        "      position = alphabet.index(char)\n",
        "      new_position = position + shift_amount\n",
        "      end_text += alphabet[new_position]\n",
        "    else:\n",
        "      end_text += char\n",
        "  print(f\"Here's the {cipher_direction}d result: {end_text}\")\n",
        "\n",
        "\n",
        "\n",
        "\n",
        "should_end = False\n",
        "while not should_end:\n",
        "\n",
        "  direction = input(\"Type 'encode' to encrypt, type 'decode' to decrypt:\\n\")\n",
        "  text = input(\"Type your message:\\n\").lower()\n",
        "  shift = int(input(\"Type the shift number:\\n\"))\n",
        "\n",
        "  shift = shift % 26\n",
        "\n",
        "  caesar(start_text=text, shift_amount=shift, cipher_direction=direction)\n",
        "\n",
        "  restart = input(\"Type 'yes' if you want to go again. Otherwise type 'no'.\\n\")\n",
        "  if restart == \"no\":\n",
        "    should_end = True\n",
        "    print(\"Goodbye\")\n",
        "\n"
      ],
      "metadata": {
        "colab": {
          "base_uri": "https://localhost:8080/"
        },
        "id": "THawYDb0aEnE",
        "outputId": "f5c6612b-1c1f-45e4-b33c-915795cd7b4f"
      },
      "execution_count": null,
      "outputs": [
        {
          "output_type": "stream",
          "name": "stdout",
          "text": [
            "           \n",
            " ,adPPYba, ,adPPYYba,  ,adPPYba, ,adPPYba, ,adPPYYba, 8b,dPPYba,  \n",
            "a8\"     \"\" \"\"     `Y8 a8P_____88 I8[    \"\" \"\"     `Y8 88P'   \"Y8  \n",
            "8b         ,adPPPPP88 8PP\"  `\"Y8ba,  ,adPPPPP88 88          \n",
            "\"8a,   ,aa 88,    ,88 \"8b,   ,aa aa    ]8I 88,    ,88 88          \n",
            " `\"Ybbd8\"' `\"8bbdP\"Y8  `\"Ybbd8\"' `\"YbbdP\"' `\"8bbdP\"Y8 88   \n",
            "            88             88                                 \n",
            "           \"\"             88                                 \n",
            "                          88                                 \n",
            " ,adPPYba, 88 8b,dPPYba,  88,dPPYba,   ,adPPYba, 8b,dPPYba,  \n",
            "a8\"     \"\" 88 88P'    \"8a 88P'    \"8a a8P_____88 88P'   \"Y8  \n",
            "8b         88 88       d8 88       88 8PP\" 88          \n",
            "\"8a,   ,aa 88 88b,   ,a8\" 88       88 \"8b,   ,aa 88          \n",
            " `\"Ybbd8\"' 88 88`YbbdP\"'  88       88  `\"Ybbd8\"' 88          \n",
            "              88                                             \n",
            "              88           \n",
            "\n"
          ]
        }
      ]
    }
  ]
}