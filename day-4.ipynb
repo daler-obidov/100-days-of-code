{
  "nbformat": 4,
  "nbformat_minor": 0,
  "metadata": {
    "colab": {
      "provenance": [],
      "authorship_tag": "ABX9TyMQQD6QoHNTcvPwwC/FY8yF",
      "include_colab_link": true
    },
    "kernelspec": {
      "name": "python3",
      "display_name": "Python 3"
    },
    "language_info": {
      "name": "python"
    }
  },
  "cells": [
    {
      "cell_type": "markdown",
      "metadata": {
        "id": "view-in-github",
        "colab_type": "text"
      },
      "source": [
        "<a href=\"https://colab.research.google.com/github/daler-obidov/100-days-of-code/blob/main/day-4.ipynb\" target=\"_parent\"><img src=\"https://colab.research.google.com/assets/colab-badge.svg\" alt=\"Open In Colab\"/></a>"
      ]
    },
    {
      "cell_type": "code",
      "execution_count": 46,
      "metadata": {
        "colab": {
          "base_uri": "https://localhost:8080/"
        },
        "id": "n9vMhJagGdYG",
        "outputId": "fcdff676-f09b-48cb-877c-07488e29ccb5"
      },
      "outputs": [
        {
          "output_type": "stream",
          "name": "stdout",
          "text": [
            "640\n",
            "4.853151796271715\n"
          ]
        }
      ],
      "source": [
        "import random\n",
        "\n",
        "random_int = random.randint(10, 150)\n",
        "\n",
        "random_int1 = random_int * 5\n",
        "\n",
        "print(random_int1)\n",
        "\n",
        "random_float = random.random()\n",
        "\n",
        "random_float1 = random_float * 5\n",
        "print(random_float1)"
      ]
    },
    {
      "cell_type": "code",
      "source": [
        "import random\n",
        "\n",
        "\n",
        "random_HorT = random.randint(0, 1)\n",
        "\n",
        "if random_HorT == 1:\n",
        "  print(\"Heads\")\n",
        "else:\n",
        "  print(\"Tails\")\n"
      ],
      "metadata": {
        "colab": {
          "base_uri": "https://localhost:8080/"
        },
        "id": "bOQxUZroRR2Q",
        "outputId": "850a7f99-1fe5-4f1e-b502-619d9ce8d14f"
      },
      "execution_count": 48,
      "outputs": [
        {
          "output_type": "stream",
          "name": "stdout",
          "text": [
            "Tails\n"
          ]
        }
      ]
    },
    {
      "cell_type": "code",
      "source": [
        "cities_of_uzbekistan = [\"Tashkent\", \"Samarkand\", \"Bukhara\", \"Nukus\"]\n",
        "\n",
        "cities_of_uzbekistan.insert(0, \"Math\")\n",
        "cities_of_uzbekistan.extend([\"Termiz\", \"Navai\"])\n",
        "cities_of_uzbekistan.append(\"Quqan\")\n",
        "cities_of_uzbekistan.remove(\"Nukus\")\n",
        "\n",
        "print(cities_of_uzbekistan)\n",
        "print(cities_of_uzbekistan[0])\n",
        "print(cities_of_uzbekistan[-1])"
      ],
      "metadata": {
        "colab": {
          "base_uri": "https://localhost:8080/"
        },
        "id": "_FrkXjRRRadw",
        "outputId": "5ea4df1d-6054-4b7e-e34d-e67352ed9a39"
      },
      "execution_count": 57,
      "outputs": [
        {
          "output_type": "stream",
          "name": "stdout",
          "text": [
            "['Math', 'Tashkent', 'Samarkand', 'Bukhara', 'Termiz', 'Navai', 'Quqan']\n",
            "Math\n",
            "Quqan\n"
          ]
        }
      ]
    },
    {
      "cell_type": "code",
      "source": [
        "# Reading a list of integers from user input\n",
        "input_string = input(\"Enter a list of integers separated by spaces: \")\n",
        "integer_list = list(map(int, input_string.split()))\n",
        "\n",
        "print(\"The list you entered is:\", integer_list)\n",
        "\n",
        "\n"
      ],
      "metadata": {
        "colab": {
          "base_uri": "https://localhost:8080/"
        },
        "id": "n9cWeG7rYmcT",
        "outputId": "360af70f-0630-4e19-e9f5-6103da47313a"
      },
      "execution_count": 59,
      "outputs": [
        {
          "output_type": "stream",
          "name": "stdout",
          "text": [
            "Enter a list of integers separated by spaces: 12\n",
            "The list you entered is: [12]\n"
          ]
        }
      ]
    },
    {
      "cell_type": "code",
      "source": [
        "import random\n",
        "\n",
        "\n",
        "names_string = \"Angela, Ben, Jenny, Michael, Chloe\"\n",
        "names = names_string.split(\", \")\n",
        "\n",
        "random_index = random.randint(0, len(names) - 1)\n",
        "\n",
        "selected_name = names[random_index]\n",
        "\n",
        "print(selected_name, \"is going to buy the meal today!\")"
      ],
      "metadata": {
        "colab": {
          "base_uri": "https://localhost:8080/"
        },
        "id": "WfOtDlwEY6c6",
        "outputId": "46c49134-6ea2-40e5-ea7d-960eef5e8e6a"
      },
      "execution_count": 75,
      "outputs": [
        {
          "output_type": "stream",
          "name": "stdout",
          "text": [
            "Michael is going to buy the meal today!\n"
          ]
        }
      ]
    },
    {
      "cell_type": "code",
      "source": [
        "line1 = [\"⬜️\",\"️⬜️\",\"️⬜️\"]\n",
        "line2 = [\"⬜️\",\"⬜️\",\"️⬜️\"]\n",
        "line3 = [\"⬜️️\",\"⬜️️\",\"⬜️️\"]\n",
        "map = [line1, line2, line3]\n",
        "print(\"Hiding your treasure! X marks the spot.\")\n",
        "position = input() # Where do you want to put the treasure?\n",
        "\n",
        "letter = position[0].lower()\n",
        "abc = [\"a\", \"b\", \"c\"]\n",
        "letter_index = abc.index(letter)\n",
        "number_index = int(position[1]) -1\n",
        "map[number_index][letter_index] = ' X '\n",
        "\n",
        "\n",
        "\n",
        "print(f\"{line1}\\n{line2}\\n{line3}\")"
      ],
      "metadata": {
        "colab": {
          "base_uri": "https://localhost:8080/"
        },
        "id": "L3Xtvvq5ov9x",
        "outputId": "5e14cba9-ee0a-48e4-a49f-51e036a364c0"
      },
      "execution_count": 78,
      "outputs": [
        {
          "output_type": "stream",
          "name": "stdout",
          "text": [
            "Hiding your treasure! X marks the spot.\n",
            "b3\n",
            "['⬜️', '️⬜️', '️⬜️']\n",
            "['⬜️', '⬜️', '️⬜️']\n",
            "['⬜️️', ' X ', '⬜️️']\n"
          ]
        }
      ]
    },
    {
      "cell_type": "code",
      "source": [
        "ask_what_to_choose = int(input(\"What do you choose? Type 0 for Rock, 1 for Paper or 2 for Scissors.\\n\"))\n",
        "rock = '''\n",
        "  _______\n",
        "---'   ____)\n",
        "      (_____)\n",
        "      (_____)\n",
        "      (____)\n",
        "---.__(___)\n",
        "'''\n",
        "paper = '''\n",
        "    ______\n",
        "---'   ____)____\n",
        "          ______)\n",
        "          _______)\n",
        "         _______)\n",
        "---.__________)\n",
        "'''\n",
        "scissors = '''\n",
        "    ______\n",
        "---'   ____)____\n",
        "          ______)\n",
        "       __________)\n",
        "      (____)\n",
        "---.__(___)\n",
        "'''\n",
        "if ask_what_to_choose > 2:\n",
        "  print(\"You typed an invalid number, you lose! *_*\")\n",
        "else:\n",
        "\n",
        "  images = [rock, paper, scissors]\n",
        "\n",
        "  print(\"You chose: \")\n",
        "  print(images[ask_what_to_choose])\n",
        "\n",
        "\n",
        "  import random\n",
        "\n",
        "  computer_decision = random.randint(0, 2)\n",
        "\n",
        "  b = images[computer_decision]\n",
        "\n",
        "  print(f\"Computer chose: {b}\")\n",
        "\n",
        "\n",
        "\n",
        "  if ask_what_to_choose == 0 and computer_decision == 2:\n",
        "    print(\"You win! :)\")\n",
        "\n",
        "  elif computer_decision > ask_what_to_choose:\n",
        "    print(\"You lose! :(\")\n",
        "  elif computer_decision == ask_what_to_choose:\n",
        "    print(\"Draw -_-\")\n",
        "  else:\n",
        "    print(\"You win! :)\")\n",
        "\n"
      ],
      "metadata": {
        "colab": {
          "base_uri": "https://localhost:8080/"
        },
        "id": "bPi76c4IpJYA",
        "outputId": "19f9b11a-bd61-4477-9f99-fd7c11a672f1"
      },
      "execution_count": 137,
      "outputs": [
        {
          "output_type": "stream",
          "name": "stdout",
          "text": [
            "What do you choose? Type 0 for Rock, 1 for Paper or 2 for Scissors.\n",
            "1\n",
            "You chose: \n",
            "    \n",
            "    ______\n",
            "---'   ____)____\n",
            "          ______)\n",
            "          _______)\n",
            "         _______)\n",
            "---.__________)\n",
            "\n",
            "Computer chose: \n",
            "    ______\n",
            "---'   ____)____\n",
            "          ______)\n",
            "       __________)\n",
            "      (____)\n",
            "---.__(___)\n",
            "\n",
            "You lose! :(\n"
          ]
        }
      ]
    }
  ]
}