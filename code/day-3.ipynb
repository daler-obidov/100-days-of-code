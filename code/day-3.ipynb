{
  "nbformat": 4,
  "nbformat_minor": 0,
  "metadata": {
    "colab": {
      "provenance": [],
      "authorship_tag": "ABX9TyPb191TWBJiVHrp2qfBCNGA",
      "include_colab_link": true
    },
    "kernelspec": {
      "name": "python3",
      "display_name": "Python 3"
    },
    "language_info": {
      "name": "python"
    }
  },
  "cells": [
    {
      "cell_type": "markdown",
      "metadata": {
        "id": "view-in-github",
        "colab_type": "text"
      },
      "source": [
        "<a href=\"https://colab.research.google.com/github/dalerboy/100-days-of-code/blob/main/day-3.ipynb\" target=\"_parent\"><img src=\"https://colab.research.google.com/assets/colab-badge.svg\" alt=\"Open In Colab\"/></a>"
      ]
    },
    {
      "cell_type": "code",
      "execution_count": 23,
      "metadata": {
        "colab": {
          "base_uri": "https://localhost:8080/"
        },
        "id": "GyZkBU5nWEPD",
        "outputId": "388018ab-fe18-4761-e76b-c6f93ebc6a7d"
      },
      "outputs": [
        {
          "output_type": "stream",
          "name": "stdout",
          "text": [
            "Welcome to the rollercoaster!\n",
            "What is your height in cm? 187\n",
            "You can ride a rollercoaster!\n",
            "How old are you? 56\n",
            "You should pay $20.\n"
          ]
        }
      ],
      "source": [
        "print(\"Welcome to the rollercoaster!\")\n",
        "ask_height = int(input(\"What is your height in cm? \"))\n",
        "if ask_height >= 120:\n",
        "  print(\"You can ride a rollercoaster!\")\n",
        "  age = int(input(\"How old are you? \"))\n",
        "  if age <= 12:\n",
        "    print(\"You have to pay $5.\")\n",
        "  elif age <= 18:\n",
        "    print(\"You should pay $7.\")\n",
        "  elif age >= 45:\n",
        "    print(\"You should pay $20.\")\n",
        "  else:\n",
        "    print(\"You should pay $12. \")\n",
        "else:\n",
        "  print(\"You are not allowed to ride a rollercoaster :(\")"
      ]
    },
    {
      "cell_type": "markdown",
      "source": [],
      "metadata": {
        "id": "kT-DI_ao2_QT"
      }
    },
    {
      "cell_type": "code",
      "source": [
        "print(\"Welcome to the rollercoaster!\")\n",
        "ask_height = int(input(\"What is your height in cm? \"))\n",
        "bill = 0\n",
        "if ask_height >= 120:\n",
        "  print(\"You can ride a rollercoaster!\")\n",
        "  age = int(input(\"How old are you? \"))\n",
        "  if age <= 12:\n",
        "    bill = 5\n",
        "    print(\"Child tickets are $5.\")\n",
        "  elif age <= 18:\n",
        "    bill = 7\n",
        "    print(\"Teenage tickets are $7.\")\n",
        "  elif age <= 55 and age >= 45:\n",
        "    print(\"Your ride is totally free!\")\n",
        "  else:\n",
        "    bill = 12\n",
        "    print(\"Adult tickets are $12. \")\n",
        "  ask_photo = input(\"Do you want photos on your ticket? The price is $3 \")\n",
        "  if ask_photo == \"yes\":\n",
        "    bill += 3\n",
        "    print(f\"Your total bill is ${bill}.\")\n",
        "  else:\n",
        "    print(f\"A total bill for your ticket is ${bill}.\")\n",
        "else:\n",
        "  print(\"You are not allowed to ride a rollercoaster :(\")"
      ],
      "metadata": {
        "colab": {
          "base_uri": "https://localhost:8080/"
        },
        "id": "kd3T4o1R1lad",
        "outputId": "aa810941-0274-4bfe-eb48-b106be71a7fe"
      },
      "execution_count": 64,
      "outputs": [
        {
          "output_type": "stream",
          "name": "stdout",
          "text": [
            "Welcome to the rollercoaster!\n",
            "What is your height in cm? 175\n",
            "You can ride a rollercoaster!\n",
            "How old are you? 20\n",
            "Adult tickets are $12. \n",
            "Do you want photos on your ticket? no\n",
            "A total bill for your ticket is $12.\n"
          ]
        }
      ]
    },
    {
      "cell_type": "code",
      "source": [
        "points = [1, 4, 2, 9, 7, 8, 9, 3, 1]\n",
        "\n",
        "x = points.count(1)\n",
        "print(x)"
      ],
      "metadata": {
        "colab": {
          "base_uri": "https://localhost:8080/"
        },
        "id": "TRoL_QkMGlSW",
        "outputId": "b94f5c3f-138f-4fec-c005-80fd89fc2a34"
      },
      "execution_count": 48,
      "outputs": [
        {
          "output_type": "stream",
          "name": "stdout",
          "text": [
            "2\n"
          ]
        }
      ]
    },
    {
      "cell_type": "code",
      "source": [
        "print(\"The Love Calculator is calculating your score...\")\n",
        "name1 = input() # What is your name?\n",
        "name2 = input() # What is their name?\n",
        "\n",
        "combined_names = name1 + name2\n",
        "name11 = combined_names.lower()\n",
        "a = name11.count(\"t\")\n",
        "b = name11.count(\"r\")\n",
        "c = name11.count(\"u\")\n",
        "d = name11.count(\"e\")\n",
        "w1 = a+b+c+d\n",
        "w1_str = str(w1)\n",
        "l1 = name11.count(\"l\")\n",
        "l2 = name11.count(\"o\")\n",
        "l3 = name11.count(\"v\")\n",
        "l4 = name11.count(\"e\")\n",
        "all = l1+l2+l3+l4\n",
        "all_str = str(all)\n",
        "result = w1_str+all_str\n",
        "\n",
        "if int(result) <= 10 or int(result) >= 90:\n",
        "  print(f\"Your score is {int(result)}, you go together like coke and mentos.\")\n",
        "elif int(result) >= 40 and int(result) <= 50:\n",
        "  print(f\"Your score is {int(result)}, you are alright together.\")\n",
        "else:\n",
        "  print(f\"Your score is {int(result)}.\")\n",
        "\n"
      ],
      "metadata": {
        "colab": {
          "base_uri": "https://localhost:8080/"
        },
        "id": "vXioMpWtZZ8I",
        "outputId": "7d2f749f-e288-4853-d8f7-74995cf55ccc"
      },
      "execution_count": 62,
      "outputs": [
        {
          "output_type": "stream",
          "name": "stdout",
          "text": [
            "The Love Calculator is calculating your score...\n",
            "Dilshod Obidov\n",
            "Dilshoda Obidova\n",
            "Your score is 10, you go together like coke and mentos.\n"
          ]
        }
      ]
    },
    {
      "cell_type": "code",
      "source": [
        "def my_function():\n",
        "    if True:\n",
        "        print(\"Hello, world!\")\n",
        "    print(\"Goodbye, world!\")"
      ],
      "metadata": {
        "id": "qeUufaiA9Acn"
      },
      "execution_count": 29,
      "outputs": []
    },
    {
      "cell_type": "code",
      "source": [
        "\n",
        "size = input() # What size pizza do you want? S, M, or L\n",
        "add_pepperoni = input() # Do you want pepperoni? Y or N\n",
        "extra_cheese = input() # Do you want extra cheese? Y or N\n",
        "\n",
        "price = 0\n",
        "if size == \"S\":\n",
        "    price = 15\n",
        "elif size == \"M\":\n",
        "  price = 20\n",
        "\n",
        "else:\n",
        "    price = 25\n",
        "if add_pepperoni == \"Y\":\n",
        "  if size == \"S\":\n",
        "    price += 2\n",
        "  else:\n",
        "      price += 3\n",
        "\n",
        "if extra_cheese == \"Y\":\n",
        "    price += 1\n",
        "else:\n",
        "    price += 0\n",
        "print(\"Thank you for choosing Python Pizza Deliveries!\")\n",
        "print(f\"Your final bill is: ${price}.\")"
      ],
      "metadata": {
        "colab": {
          "base_uri": "https://localhost:8080/"
        },
        "id": "DUDQbYY1Aqvi",
        "outputId": "5b5adaa2-c5cc-45b9-bcc2-94ce4dbba87d"
      },
      "execution_count": 65,
      "outputs": [
        {
          "output_type": "stream",
          "name": "stdout",
          "text": [
            "S\n",
            "N\n",
            "Y\n",
            "Thank you for choosing Python Pizza Deliveries!\n",
            "Your final bill is: $16.\n"
          ]
        }
      ]
    },
    {
      "cell_type": "code",
      "source": [
        "a = 10\n",
        "a = 10"
      ],
      "metadata": {
        "id": "BJZ_GntjCXXw"
      },
      "execution_count": 36,
      "outputs": []
    },
    {
      "cell_type": "code",
      "source": [
        "# Enter your height in meters e.g., 1.55\n",
        "height = float(input())\n",
        "# Enter your weight in kilograms e.g., 72\n",
        "weight = int(input())\n",
        "# 🚨 Don't change the code above 👆\n",
        "\n",
        "#Write your code below this line 👇\n",
        "\n",
        "person_BMI = weight / height**2\n",
        "\n",
        "if person_BMI < 18.5:\n",
        "  print(f\"Your BMI is {person_BMI}, you are underweight.\")\n",
        "elif person_BMI <= 25:\n",
        "  print(f\"Your BMI is {person_BMI}, you have a normal weight.\")\n",
        "elif person_BMI <= 30:\n",
        "  print(f\"Your BMI is {person_BMI}, you are slightly overweight.\")\n",
        "elif person_BMI <= 35:\n",
        "  print(f\"Your BMI is {person_BMI}, you are obese.\")\n",
        "else:\n",
        "  print(f\"Your BMI is {person_BMI}, you are clinically obese.\")"
      ],
      "metadata": {
        "colab": {
          "base_uri": "https://localhost:8080/"
        },
        "id": "SrWKGHk3hosa",
        "outputId": "edd7f317-4440-4274-c4b7-f9c803b00a55"
      },
      "execution_count": 24,
      "outputs": [
        {
          "output_type": "stream",
          "name": "stdout",
          "text": [
            "1.65\n",
            "89\n",
            "Your BMI is 32.690541781450875, you are obese.\n"
          ]
        }
      ]
    },
    {
      "cell_type": "code",
      "source": [
        "print('Welcome to our theatre called \"The best ever\".')\n",
        "ask_age = int(input(\"How old are you? \"))\n",
        "\n",
        "if ask_age <= 21:\n",
        "    print(\"You should pay 7$ per person.\")\n",
        "else:\n",
        "  print(\"You should pay 12$ per person.\")"
      ],
      "metadata": {
        "colab": {
          "base_uri": "https://localhost:8080/"
        },
        "id": "YeOACmroa0NF",
        "outputId": "1a7c539b-8ee3-4a52-d74c-a9417b5dc72c"
      },
      "execution_count": 13,
      "outputs": [
        {
          "output_type": "stream",
          "name": "stdout",
          "text": [
            "Welcome to our theatre called \"The best ever\".\n",
            "How old are you? 20\n",
            "You should pay 7$ per person.\n"
          ]
        }
      ]
    },
    {
      "cell_type": "code",
      "source": [
        "print('''*******************************************************************************\n",
        "          |                   |                  |                     |\n",
        " _________|________________.=\"\"_;=.______________|_____________________|_______\n",
        "|                   |  ,-\"_,=\"\"     '\"=.|                  |\n",
        "|___________________|__\"=._o'\"-._        '\"=.______________|___________________\n",
        "          |                '\"=._o'\"=._      _'\"=._                     |\n",
        " _________|_____________________:=._o \"=._.\"_.-=\"'\"=.__________________|_______\n",
        "|                   |    __.--\" , ; '\"=._o.\" ,-\"\"\"-._ \".   |\n",
        "|___________________|_._\"  ,. .' ' '' ,  '\"-._\"-._   \". '__|___________________\n",
        "          |           |o'\"=._' , \"' '; .\". ,  \"-._\"-._; ;              |\n",
        " _________|___________| ;'-.o'\"=._; .\" ' ''.\"' . \"-._ /_______________|_______\n",
        "|                   | |o;    '\"-.o'\"=._''  '' \" ,__.--o;   |\n",
        "|___________________|_| ;     (#) '-.o '\"=.'_.--\"_o.-; ;___|___________________\n",
        "____/______/______/___|o;._    \"      '\".o|o_.--\"    ;o;____/______/______/____\n",
        "/______/______/______/_\"=._o--._        ; | ;        ; ;/______/______/______/_\n",
        "____/______/______/______/__\"=._o--._   ;o|o;     _._;o;____/______/______/____\n",
        "/______/______/______/______/____\"=._o._; | ;_.--\"o.--\"_/______/______/______/_\n",
        "____/______/______/______/______/_____\"=.o|o_.--\"\"___/______/______/______/____\n",
        "/______/______/______/______/______/______/______/______/______/______/_____ /\n",
        "*******************************************************************************''')\n",
        "print(\"Welcome to Treasure Island.\\nYour mission is to find the treasure.\\nYou're at a cross road. Where do you want to go?\\n        Type 'left' or 'right'\")\n",
        "direction = input()\n",
        "\n",
        "if direction == \"left\":\n",
        "  print('''You've come to a lake. There is an island in the middle of the lake. \\n   Type \"wait\" to wait for a boat. type \"swim\" to swim across.''')\n",
        "else:\n",
        "    print(\"You fell into a hole. Game Over.\")\n",
        "swim_direction = input()\n",
        "if swim_direction == \"wait\":\n",
        "  print(\"You arrived at the island unharmed. There is a house 3 doors.\\n        One red, one yellow and one blue. Which colour do you choose?\")\n",
        "else:\n",
        "  print(\"You get atacked by an angry trout. Game Over.\")\n",
        "\n",
        "door_colour = input()\n",
        "if door_colour == \"red\":\n",
        "  print('''It's a room full of fire. Game Over.''')\n",
        "if door_colour == \"yellow\":\n",
        "  print(\"You found the treasure! You win!\")\n",
        "else:\n",
        "  print(\"You enter a room of beasts. Game Over.\")\n",
        "\n",
        "\n",
        "\n",
        "\n",
        "\n",
        "\n",
        "\n"
      ],
      "metadata": {
        "colab": {
          "base_uri": "https://localhost:8080/"
        },
        "id": "mzfzdTkUcIvO",
        "outputId": "b03c9cfa-c83b-477d-ec41-20c4c94cd01f"
      },
      "execution_count": 61,
      "outputs": [
        {
          "output_type": "stream",
          "name": "stdout",
          "text": [
            "*******************************************************************************\n",
            "          |                   |                  |                     |\n",
            " _________|________________.=\"\"_;=.______________|_____________________|_______\n",
            "|                   |  ,-\"_,=\"\"     '\"=.|                  |\n",
            "|___________________|__\"=._o'\"-._        '\"=.______________|___________________\n",
            "          |                '\"=._o'\"=._      _'\"=._                     |\n",
            " _________|_____________________:=._o \"=._.\"_.-=\"'\"=.__________________|_______\n",
            "|                   |    __.--\" , ; '\"=._o.\" ,-\"\"\"-._ \".   |\n",
            "|___________________|_._\"  ,. .' ' '' ,  '\"-._\"-._   \". '__|___________________\n",
            "          |           |o'\"=._' , \"' '; .\". ,  \"-._\"-._; ;              |\n",
            " _________|___________| ;'-.o'\"=._; .\" ' ''.\"' . \"-._ /_______________|_______\n",
            "|                   | |o;    '\"-.o'\"=._''  '' \" ,__.--o;   |\n",
            "|___________________|_| ;     (#) '-.o '\"=.'_.--\"_o.-; ;___|___________________\n",
            "____/______/______/___|o;._    \"      '\".o|o_.--\"    ;o;____/______/______/____\n",
            "/______/______/______/_\"=._o--._        ; | ;        ; ;/______/______/______/_\n",
            "____/______/______/______/__\"=._o--._   ;o|o;     _._;o;____/______/______/____\n",
            "/______/______/______/______/____\"=._o._; | ;_.--\"o.--\"_/______/______/______/_\n",
            "____/______/______/______/______/_____\"=.o|o_.--\"\"___/______/______/______/____\n",
            "/______/______/______/______/______/______/______/______/______/______/_____ /\n",
            "*******************************************************************************\n",
            "Welcome to Treasure Island.\n",
            "Your mission is to find the treasure.\n",
            "You're at a cross road. Where do you want to go?\n",
            "        Type 'left' or 'right'\n",
            "left\n",
            "You've come to a lake. There is an island in the middle of the lake. \n",
            "   Type \"wait\" to wait for a boat. type \"swim\" to swim across.\n",
            "wait\n",
            "You arrived at the island unharmed. There is a house 3 doors.\n",
            "        One red, one yellow and one blue. Which colour do you choose?\n",
            "blue\n",
            "You enter a room of beasts. Game Over.\n"
          ]
        }
      ]
    }
  ]
}