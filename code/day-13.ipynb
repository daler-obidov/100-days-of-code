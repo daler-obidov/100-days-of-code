{
 "cells": [
  {
   "cell_type": "code",
   "execution_count": 50,
   "metadata": {},
   "outputs": [
    {
     "name": "stdout",
     "output_type": "stream",
     "text": [
      "[5, 8, 12, 16, 27, 40]\n"
     ]
    }
   ],
   "source": [
    "# #not debugged\n",
    "# def my_function():\n",
    "#     for i in range(1, 20):\n",
    "#         if i == 20:\n",
    "#             print(\"It is\")\n",
    "# my_function()\n",
    "\n",
    "\n",
    "# #debugged\n",
    "# def my_function():\n",
    "#     for i in range(1, 21):\n",
    "#         if i == 20:\n",
    "#             print(\"It is\")\n",
    "# my_function()\n",
    "\n",
    "\n",
    "# # #not debugged\n",
    "# ran_images = [1, 2, 3, 4, 5, 6]\n",
    "# dice_num = randint(1, 6)\n",
    "# print(ran_images[dice_num])\n",
    "\n",
    "\n",
    "\n",
    "# # #debugged\n",
    "# from random import randint\n",
    "\n",
    "# ran_images = [1, 2, 3, 4, 5, 6]\n",
    "# dice_num = randint(0, 5)\n",
    "# print(ran_images[dice_num])\n",
    "\n",
    "# # # #not debugged\n",
    "# year = int(input(\"What's your birth rate? \"))\n",
    "# if year > 1980 and year < 1994:\n",
    "#     print(\"You are a millennial\")\n",
    "# elif year > 1994:\n",
    "#     print(\"You are a Gen Z\")\n",
    "\n",
    "\n",
    "# # # #debugged\n",
    "# year = int(input(\"What's your birth rate? \"))\n",
    "# if year > 1980 and year < 1994:\n",
    "#     print(\"You are a millennial\")\n",
    "# elif year >= 1994:\n",
    "#     print(\"You are a Gen Z\")\n",
    "\n",
    "\n",
    "# # # #not debugged\n",
    "\n",
    "# age = int(input(\"how old are you?\"))\n",
    "# if age > 18:\n",
    "#     print(\"you can drive at a age {age}\")\n",
    "\n",
    "\n",
    "# # # # #debugged\n",
    "# try:\n",
    "#     age = int(input(\"how old are you?\"))\n",
    "# except ValueError:\n",
    "#     print(\"please, do not be a fool!\")\n",
    "\n",
    "\n",
    "# if age > 18:\n",
    "#     print(f\"you can drive at age {age}\")\n",
    "# else:\n",
    "#     print(\"go home kid\")\n",
    "\n",
    "# # # # #not debugged\n",
    "# word_per_pages = 0\n",
    "# pages = int(input(\"number of pages: \"))\n",
    "# word_per_page = int(input(\"number of words per page: \"))\n",
    "# total_words = pages * word_per_page\n",
    "# print(total_words)\n",
    "\n",
    "\n",
    "# # # # # #debugged\n",
    "\n",
    "# pages = int(input(\"number of pages: \"))\n",
    "# word_per_pages = int(input(\"number of words per page: \"))\n",
    "# total_words = pages * word_per_pages\n",
    "# print(total_words)\n",
    "\n",
    "\n",
    "# from random import randint\n",
    "# import math\n",
    "\n",
    "\n",
    "# def maths(n1, n2):\n",
    "#     return n1 + n2\n",
    "\n",
    "# def mutate(a_list):\n",
    "#     b_list = []\n",
    "#     new_item = 0\n",
    "#     for item in a_list:\n",
    "#         new_item = item * 2\n",
    "#         new_item += randint(1, 3)\n",
    "#         new_item = maths(new_item, item)\n",
    "#         b_list.append(new_item)\n",
    "#     print(b_list)\n",
    "\n",
    "# mutate([1, 2, 3, 5, 8, 13])\n",
    "\n",
    "\n",
    "\n"
   ]
  },
  {
   "cell_type": "code",
   "execution_count": 3,
   "metadata": {},
   "outputs": [
    {
     "data": {
      "text/plain": [
       "True"
      ]
     },
     "execution_count": 3,
     "metadata": {},
     "output_type": "execute_result"
    }
   ],
   "source": [
    "def is_leap(year):\n",
    "    if year % 4 == 0:\n",
    "        if year % 100 == 0:\n",
    "            if year % 400 == 0:\n",
    "                return True\n",
    "            else:\n",
    "                return False\n",
    "        else:\n",
    "            return True\n",
    "    else:\n",
    "        return True\n",
    "    \n",
    "is_leap(2020)"
   ]
  }
 ],
 "metadata": {
  "kernelspec": {
   "display_name": "Python 3",
   "language": "python",
   "name": "python3"
  },
  "language_info": {
   "codemirror_mode": {
    "name": "ipython",
    "version": 3
   },
   "file_extension": ".py",
   "mimetype": "text/x-python",
   "name": "python",
   "nbconvert_exporter": "python",
   "pygments_lexer": "ipython3",
   "version": "3.12.4"
  }
 },
 "nbformat": 4,
 "nbformat_minor": 2
}
