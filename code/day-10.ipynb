{
 "cells": [
  {
   "cell_type": "code",
   "execution_count": 61,
   "metadata": {},
   "outputs": [
    {
     "name": "stdout",
     "output_type": "stream",
     "text": [
      "Daaallleerr Ooobidov\n"
     ]
    }
   ],
   "source": [
    "#Functions with outputs\n",
    "def format_name(l_name, f_name):\n",
    "    '''The format name of it.'''\n",
    "    if l_name == \"\" or f_name == \"\":\n",
    "        return\n",
    "    formated_name = l_name.title()\n",
    "    formated_f_name = f_name.title()\n",
    "    return f'{formated_name} {formated_f_name}'\n",
    "\n",
    "\n",
    "print(format_name(input(\"What is your name?\"), input(\"What is your second name?\")))\n"
   ]
  },
  {
   "cell_type": "code",
   "execution_count": null,
   "metadata": {},
   "outputs": [],
   "source": [
    "def is_leap(year):\n",
    "  '''No way you do it'''\n",
    "  if year % 4 == 0:\n",
    "    if year % 100 == 0:\n",
    "      if year % 400 == 0:\n",
    "        return True\n",
    "      else:\n",
    "        return False\n",
    "    else:\n",
    "      return True\n",
    "  else:\n",
    "    return False\n",
    "\n",
    "def days_in_month(year, month):\n",
    "  '''No way you do it'''\n",
    "  month_days = [31, 28, 31, 30, 31, 30, 31, 31, 30, 31, 30, 31]\n",
    "  if month == 2 and is_leap(year):\n",
    "    return 29\n",
    "  else:\n",
    "    return month_days[month - 1] \n",
    " \n",
    "year = int(input()) # Enter a year\n",
    "month = int(input()) # Enter a month\n",
    "days = days_in_month(year, month)\n",
    "print(days)"
   ]
  },
  {
   "cell_type": "code",
   "execution_count": 4,
   "metadata": {},
   "outputs": [
    {
     "name": "stderr",
     "output_type": "stream",
     "text": [
      "<>:1: SyntaxWarning: invalid escape sequence '\\ '\n",
      "<>:1: SyntaxWarning: invalid escape sequence '\\ '\n",
      "C:\\Users\\User\\AppData\\Local\\Temp\\ipykernel_4200\\2055684391.py:1: SyntaxWarning: invalid escape sequence '\\ '\n",
      "  logo = \"\"\"\n"
     ]
    },
    {
     "name": "stdout",
     "output_type": "stream",
     "text": [
      "\n",
      " _____________________\n",
      "|  _________________  |\n",
      "| | Pythonista   0. | |  .----------------.  .----------------.  .----------------.  .----------------. \n",
      "| |_________________| | | .--------------. || .--------------. || .--------------. || .--------------. |\n",
      "|  ___ ___ ___   ___  | | |     ______   | || |      __      | || |   _____      | || |     ______   | |\n",
      "| | 7 | 8 | 9 | | + | | | |   .' ___  |  | || |     /  \\     | || |  |_   _|     | || |   .' ___  |  | |\n",
      "| |___|___|___| |___| | | |  / .'   \\_|  | || |    / /\\ \\    | || |    | |       | || |  / .'   \\_|  | |\n",
      "| | 4 | 5 | 6 | | - | | | |  | |         | || |   / ____ \\   | || |    | |   _   | || |  | |         | |\n",
      "| |___|___|___| |___| | | |  \\ `.___.'\\  | || | _/ /    \\ \\_ | || |   _| |__/ |  | || |  \\ `.___.'\\  | |\n",
      "| | 1 | 2 | 3 | | x | | | |   `._____.'  | || ||____|  |____|| || |  |________|  | || |   `._____.'  | |\n",
      "| |___|___|___| |___| | | |              | || |              | || |              | || |              | |\n",
      "| | . | 0 | = | | / | | | '--------------' || '--------------' || '--------------' || '--------------' |\n",
      "| |___|___|___| |___| |  '----------------'  '----------------'  '----------------'  '----------------' \n",
      "|_____________________|\n",
      "\n",
      "*\n",
      "+\n",
      "/\n",
      "-\n",
      "2.5 + 2.5 = 5.0\n"
     ]
    }
   ],
   "source": [
    "logo = \"\"\"\n",
    " _____________________\n",
    "|  _________________  |\n",
    "| | Pythonista   0. | |  .----------------.  .----------------.  .----------------.  .----------------. \n",
    "| |_________________| | | .--------------. || .--------------. || .--------------. || .--------------. |\n",
    "|  ___ ___ ___   ___  | | |     ______   | || |      __      | || |   _____      | || |     ______   | |\n",
    "| | 7 | 8 | 9 | | + | | | |   .' ___  |  | || |     /  \\     | || |  |_   _|     | || |   .' ___  |  | |\n",
    "| |___|___|___| |___| | | |  / .'   \\_|  | || |    / /\\ \\    | || |    | |       | || |  / .'   \\_|  | |\n",
    "| | 4 | 5 | 6 | | - | | | |  | |         | || |   / ____ \\   | || |    | |   _   | || |  | |         | |\n",
    "| |___|___|___| |___| | | |  \\ `.___.'\\  | || | _/ /    \\ \\_ | || |   _| |__/ |  | || |  \\ `.___.'\\  | |\n",
    "| | 1 | 2 | 3 | | x | | | |   `._____.'  | || ||____|  |____|| || |  |________|  | || |   `._____.'  | |\n",
    "| |___|___|___| |___| | | |              | || |              | || |              | || |              | |\n",
    "| | . | 0 | = | | / | | | '--------------' || '--------------' || '--------------' || '--------------' |\n",
    "| |___|___|___| |___| |  '----------------'  '----------------'  '----------------'  '----------------' \n",
    "|_____________________|\n",
    "\"\"\"\n",
    "\n",
    "\n",
    "\n",
    "\n",
    "def add(n1, n2):\n",
    "    return n1 + n2\n",
    "def subtract(n1, n2):\n",
    "    return n1 - n2\n",
    "def divide(n1, n2):\n",
    "    return n1 / n2\n",
    "def multiply(n1, n2):\n",
    "    return n1 * n2\n",
    "\n",
    "keys = {\n",
    "    \"*\": multiply,\n",
    "    \"+\": add,\n",
    "    \"/\": divide,\n",
    "    \"-\": subtract\n",
    "    }\n",
    "\n",
    "def calculator():\n",
    "    print(logo)\n",
    "    number1 = float(input(\"What's the first number?: \"))\n",
    "\n",
    "    for operation in keys:\n",
    "        print(operation)\n",
    "\n",
    "    sh_continue = True\n",
    "    while sh_continue:\n",
    "        operation_ask = input(\"Pick an operation from the line above: \")\n",
    "        number2 = float(input(\"What's the next number?: \"))\n",
    "        calculation_function = keys[operation_ask]\n",
    "        answer = calculation_function(number1, number2)\n",
    "\n",
    "        print(f'{number1} {operation_ask} {number2} = {answer}')\n",
    "\n",
    "        ask_to_c = input(f\"Type 'c' to continue calculating with {answer}: / Type 's' to start a new calculation! \")\n",
    "        if ask_to_c == \"c\":\n",
    "            number1 = answer\n",
    "        else:\n",
    "            sh_continue = False\n",
    "            \n",
    "            calculator()\n",
    "calculator()\n",
    "\n",
    "\n",
    "    # operation_ask = input(\"Pick an operation from the line above: \")\n",
    "    # number3= int(input(\"What's the next number?: \"))\n",
    "    # calculation_function = keys[operation_ask]\n",
    "    # answer2 = calculation_function(answer, number3)\n",
    "\n",
    "    # print(f'{answer} {operation_ask} {number3} = {answer2}')"
   ]
  }
 ],
 "metadata": {
  "kernelspec": {
   "display_name": "Python 3",
   "language": "python",
   "name": "python3"
  },
  "language_info": {
   "codemirror_mode": {
    "name": "ipython",
    "version": 3
   },
   "file_extension": ".py",
   "mimetype": "text/x-python",
   "name": "python",
   "nbconvert_exporter": "python",
   "pygments_lexer": "ipython3",
   "version": "3.12.4"
  }
 },
 "nbformat": 4,
 "nbformat_minor": 2
}
