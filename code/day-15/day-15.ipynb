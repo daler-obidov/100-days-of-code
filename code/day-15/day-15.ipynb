{
 "cells": [
  {
   "cell_type": "code",
   "execution_count": 2,
   "metadata": {},
   "outputs": [
    {
     "name": "stdout",
     "output_type": "stream",
     "text": [
      "\n",
      "MM'\"\"\"\"'YMM MMP\"\"\"\"\"YMM MM\"\"\"\"\"\"\"\"`M MM\"\"\"\"\"\"\"\"`M MM\"\"\"\"\"\"\"\"`M MM\"\"\"\"\"\"\"\"`M M\"\"\"\"\"`'\"\"\"`YM MMP\"\"\"\"\"\"\"MM M\"\"MMMMM\"\"M MM\"\"\"\"\"\"\"\"`M MM\"\"\"\"\"\"\"`MM \n",
      "M' .mmm. `M M' .mmm. `M MM  mmmmmmmM MM  mmmmmmmM MM  mmmmmmmM MM  mmmmmmmM M  mm.  mm.  M M' .mmmm  MM M  MMMM' .M MM  mmmmmmmM MM  mmmm,  M \n",
      "M  MMMMMooM M  MMMMM  M M'      MMMM M'      MMMM M`      MMMM M`      MMMM M  MMM  MMM  M M         `M M       .MM M`      MMMM M'        .M \n",
      "M  MMMMMMMM M  MMMMM  M MM  MMMMMMMM MM  MMMMMMMM MM  MMMMMMMM MM  MMMMMMMM M  MMM  MMM  M M  MMMMM  MM M  MMMb. YM MM  MMMMMMMM MM  MMMb. \"M \n",
      "M. `MMM' .M M. `MMM' .M MM  MMMMMMMM MM  MMMMMMMM MM  MMMMMMMM MM  MMMMMMMM M  MMM  MMM  M M  MMMMM  MM M  MMMMb  M MM  MMMMMMMM MM  MMMMM  M \n",
      "MM.     .dM MMb     dMM MM  MMMMMMMM MM  MMMMMMMM MM        .M MM        .M M  MMM  MMM  M M  MMMMM  MM M  MMMMM  M MM        .M MM  MMMMM  M \n",
      "MMMMMMMMMMM MMMMMMMMMMM MMMMMMMMMMMM MMMMMMMMMMMM MMMMMMMMMMMM MMMMMMMMMMMM MMMMMMMMMMMMMM MMMMMMMMMMMM MMMMMMMMMMM MMMMMMMMMMMM MMMMMMMMMMMM \n",
      "                                                                                                                                              \n",
      "\n",
      "Please, insert coins! \n",
      "Sorry, that's not enough money. Money refunded.\n",
      "\n",
      "MM'\"\"\"\"'YMM MMP\"\"\"\"\"YMM MM\"\"\"\"\"\"\"\"`M MM\"\"\"\"\"\"\"\"`M MM\"\"\"\"\"\"\"\"`M MM\"\"\"\"\"\"\"\"`M M\"\"\"\"\"`'\"\"\"`YM MMP\"\"\"\"\"\"\"MM M\"\"MMMMM\"\"M MM\"\"\"\"\"\"\"\"`M MM\"\"\"\"\"\"\"`MM \n",
      "M' .mmm. `M M' .mmm. `M MM  mmmmmmmM MM  mmmmmmmM MM  mmmmmmmM MM  mmmmmmmM M  mm.  mm.  M M' .mmmm  MM M  MMMM' .M MM  mmmmmmmM MM  mmmm,  M \n",
      "M  MMMMMooM M  MMMMM  M M'      MMMM M'      MMMM M`      MMMM M`      MMMM M  MMM  MMM  M M         `M M       .MM M`      MMMM M'        .M \n",
      "M  MMMMMMMM M  MMMMM  M MM  MMMMMMMM MM  MMMMMMMM MM  MMMMMMMM MM  MMMMMMMM M  MMM  MMM  M M  MMMMM  MM M  MMMb. YM MM  MMMMMMMM MM  MMMb. \"M \n",
      "M. `MMM' .M M. `MMM' .M MM  MMMMMMMM MM  MMMMMMMM MM  MMMMMMMM MM  MMMMMMMM M  MMM  MMM  M M  MMMMM  MM M  MMMMb  M MM  MMMMMMMM MM  MMMMM  M \n",
      "MM.     .dM MMb     dMM MM  MMMMMMMM MM  MMMMMMMM MM        .M MM        .M M  MMM  MMM  M M  MMMMM  MM M  MMMMM  M MM        .M MM  MMMMM  M \n",
      "MMMMMMMMMMM MMMMMMMMMMM MMMMMMMMMMMM MMMMMMMMMMMM MMMMMMMMMMMM MMMMMMMMMMMM MMMMMMMMMMMMMM MMMMMMMMMMMM MMMMMMMMMMM MMMMMMMMMMMM MMMMMMMMMMMM \n",
      "                                                                                                                                              \n",
      "\n",
      "Please, insert coins! \n",
      "Here is $30.4 in change.\n",
      "Here is your latte ☕. Enjoy!\n",
      "\n",
      "MM'\"\"\"\"'YMM MMP\"\"\"\"\"YMM MM\"\"\"\"\"\"\"\"`M MM\"\"\"\"\"\"\"\"`M MM\"\"\"\"\"\"\"\"`M MM\"\"\"\"\"\"\"\"`M M\"\"\"\"\"`'\"\"\"`YM MMP\"\"\"\"\"\"\"MM M\"\"MMMMM\"\"M MM\"\"\"\"\"\"\"\"`M MM\"\"\"\"\"\"\"`MM \n",
      "M' .mmm. `M M' .mmm. `M MM  mmmmmmmM MM  mmmmmmmM MM  mmmmmmmM MM  mmmmmmmM M  mm.  mm.  M M' .mmmm  MM M  MMMM' .M MM  mmmmmmmM MM  mmmm,  M \n",
      "M  MMMMMooM M  MMMMM  M M'      MMMM M'      MMMM M`      MMMM M`      MMMM M  MMM  MMM  M M         `M M       .MM M`      MMMM M'        .M \n",
      "M  MMMMMMMM M  MMMMM  M MM  MMMMMMMM MM  MMMMMMMM MM  MMMMMMMM MM  MMMMMMMM M  MMM  MMM  M M  MMMMM  MM M  MMMb. YM MM  MMMMMMMM MM  MMMb. \"M \n",
      "M. `MMM' .M M. `MMM' .M MM  MMMMMMMM MM  MMMMMMMM MM  MMMMMMMM MM  MMMMMMMM M  MMM  MMM  M M  MMMMM  MM M  MMMMb  M MM  MMMMMMMM MM  MMMMM  M \n",
      "MM.     .dM MMb     dMM MM  MMMMMMMM MM  MMMMMMMM MM        .M MM        .M M  MMM  MMM  M M  MMMMM  MM M  MMMMM  M MM        .M MM  MMMMM  M \n",
      "MMMMMMMMMMM MMMMMMMMMMM MMMMMMMMMMMM MMMMMMMMMMMM MMMMMMMMMMMM MMMMMMMMMMMM MMMMMMMMMMMMMM MMMMMMMMMMMM MMMMMMMMMMM MMMMMMMMMMMM MMMMMMMMMMMM \n",
      "                                                                                                                                              \n",
      "\n"
     ]
    },
    {
     "ename": "KeyError",
     "evalue": "''",
     "output_type": "error",
     "traceback": [
      "\u001b[1;31m---------------------------------------------------------------------------\u001b[0m",
      "\u001b[1;31mKeyError\u001b[0m                                  Traceback (most recent call last)",
      "Cell \u001b[1;32mIn[2], line 44\u001b[0m\n\u001b[0;32m     42\u001b[0m     \u001b[38;5;28mprint\u001b[39m(\u001b[38;5;124mf\u001b[39m\u001b[38;5;124m'\u001b[39m\u001b[38;5;124mMoney: $\u001b[39m\u001b[38;5;132;01m{\u001b[39;00mmoney\u001b[38;5;132;01m}\u001b[39;00m\u001b[38;5;124m'\u001b[39m)\n\u001b[0;32m     43\u001b[0m \u001b[38;5;28;01melse\u001b[39;00m:\n\u001b[1;32m---> 44\u001b[0m     drink \u001b[38;5;241m=\u001b[39m \u001b[43mmenu\u001b[49m\u001b[43m[\u001b[49m\u001b[43muser_choice\u001b[49m\u001b[43m]\u001b[49m\n\u001b[0;32m     45\u001b[0m     \u001b[38;5;28;01mif\u001b[39;00m resources_s(drink[\u001b[38;5;124m\"\u001b[39m\u001b[38;5;124mingredients\u001b[39m\u001b[38;5;124m\"\u001b[39m]):\n\u001b[0;32m     46\u001b[0m         payment \u001b[38;5;241m=\u001b[39m coins()\n",
      "\u001b[1;31mKeyError\u001b[0m: ''"
     ]
    }
   ],
   "source": [
    "from resources import menu, resources1\n",
    "from art import logo\n",
    "\n",
    "is_on = True\n",
    "money = 0\n",
    "\n",
    "def resources_s(order_ingredients):\n",
    "    for i in order_ingredients:\n",
    "        if order_ingredients[i] > resources1[i]:  # Changed >= to > to prevent off-by-one error\n",
    "            print(f\"Sorry there is not enough {i}.\")\n",
    "            return False\n",
    "    return True\n",
    "\n",
    "def coins():\n",
    "    print(\"Please, insert coins! \")\n",
    "    total = int(input(\"How many quarters?: \")) * 0.25\n",
    "    total += int(input(\"How many dimes?: \")) * 0.1\n",
    "    total += int(input(\"How many nickles?: \")) * 0.05\n",
    "    total += int(input(\"How many pennies?: \")) * 0.01\n",
    "    return total\n",
    "\n",
    "def trns_success(money_recieved, cost):\n",
    "    if money_recieved >= cost:  # Fixed variable name from trns_success to money_recieved\n",
    "        change = round(money_recieved - cost, 2)\n",
    "        print(f\"Here is ${change} in change.\")\n",
    "        global money\n",
    "        money += cost\n",
    "        return True\n",
    "    else:\n",
    "        print(\"Sorry, that's not enough money. Money refunded.\")\n",
    "        return False\n",
    "\n",
    "while is_on:\n",
    "    print(logo)\n",
    "    user_choice = input(\"What would you like? (espresso/latte/cappuccino): \")\n",
    "    if user_choice == \"off\":\n",
    "        is_on = False\n",
    "    elif user_choice == \"report\":\n",
    "        print(f'Water: {resources1[\"water\"]}ml')\n",
    "        print(f'Milk: {resources1[\"milk\"]}ml')\n",
    "        print(f'Coffee: {resources1[\"coffee\"]}g')\n",
    "        print(f'Money: ${money}')\n",
    "    else:\n",
    "        drink = menu[user_choice]\n",
    "        if resources_s(drink[\"ingredients\"]):\n",
    "            payment = coins()\n",
    "            if trns_success(payment, drink[\"cost\"]):  # Ensure this is only done if transaction is successful\n",
    "                for item in drink[\"ingredients\"]:\n",
    "                    resources1[item] -= drink[\"ingredients\"][item]\n",
    "                print(f\"Here is your {user_choice} ☕. Enjoy!\")\n"
   ]
  }
 ],
 "metadata": {
  "kernelspec": {
   "display_name": "Python 3",
   "language": "python",
   "name": "python3"
  },
  "language_info": {
   "codemirror_mode": {
    "name": "ipython",
    "version": 3
   },
   "file_extension": ".py",
   "mimetype": "text/x-python",
   "name": "python",
   "nbconvert_exporter": "python",
   "pygments_lexer": "ipython3",
   "version": "3.12.4"
  }
 },
 "nbformat": 4,
 "nbformat_minor": 2
}
