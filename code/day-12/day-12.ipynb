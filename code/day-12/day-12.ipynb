{
 "cells": [
  {
   "cell_type": "code",
   "execution_count": 3,
   "metadata": {},
   "outputs": [
    {
     "name": "stdout",
     "output_type": "stream",
     "text": [
      "4\n",
      "5\n"
     ]
    }
   ],
   "source": [
    "#Local scope\n",
    "drinks_number = 1\n",
    "\n",
    "def drunk_drinks():\n",
    "    drinks_number = 4\n",
    "    print(drinks_number)\n",
    "drunk_drinks()\n",
    "\n",
    "player_number = 5\n",
    "\n",
    "#Global scope\n",
    "def out_of_game_p():\n",
    "    player_health = 15\n",
    "    print(player_number)\n",
    "out_of_game_p()"
   ]
  },
  {
   "cell_type": "code",
   "execution_count": 11,
   "metadata": {},
   "outputs": [
    {
     "name": "stdout",
     "output_type": "stream",
     "text": [
      "False\n"
     ]
    }
   ],
   "source": [
    "num = int(input(\"Enter a number: \"))\n",
    "\n",
    "def is_prime(num):\n",
    "    if num <= 1:\n",
    "        return False\n",
    "    for i in range(2, int(num**0.5) + 1):\n",
    "        if num % i == 0:\n",
    "            return False\n",
    "    return True\n",
    "\n",
    "if is_prime(num):\n",
    "    print(\"True\")\n",
    "else:\n",
    "    print(\"False\")"
   ]
  },
  {
   "cell_type": "code",
   "execution_count": 18,
   "metadata": {},
   "outputs": [
    {
     "name": "stdout",
     "output_type": "stream",
     "text": [
      "3\n"
     ]
    }
   ],
   "source": [
    "players = 2\n",
    "\n",
    "def alive_players(player):\n",
    "    return player + 1\n",
    "    \n",
    "\n",
    "players = alive_players(players)\n",
    "print(players)"
   ]
  },
  {
   "cell_type": "code",
   "execution_count": 1,
   "metadata": {},
   "outputs": [
    {
     "name": "stdout",
     "output_type": "stream",
     "text": [
      "                                                                                                                                                                                \n",
      "        GGGGGGGGGGGGG                                                                                                                                                                \n",
      "     GGG::::::::::::G                                                                                                                                                                \n",
      "   GG:::::::::::::::G                                                                                                                                                                \n",
      "  G:::::GGGGGGGG::::G                                                                                                                                                                \n",
      " G:::::G       GGGGGGuuuuuu    uuuuuu      eeeeeeeeeeee        ssssssssss       ssssssssss          aaaaaaaaaaaaa        nnnn  nnnnnnnn    uuuuuu    uuuuuu     mmmmmmm    mmmmmmm   \n",
      "G:::::G              u::::u    u::::u    ee::::::::::::ee    ss::::::::::s    ss::::::::::s         a::::::::::::a       n:::nn::::::::nn  u::::u    u::::u   mm:::::::m  m:::::::mm \n",
      "G:::::G              u::::u    u::::u   e::::::eeeee:::::eess:::::::::::::s ss:::::::::::::s        aaaaaaaaa:::::a      n::::::::::::::nn u::::u    u::::u  m::::::::::mm::::::::::m\n",
      "G:::::G    GGGGGGGGGGu::::u    u::::u  e::::::e     e:::::es::::::ssss:::::ss::::::ssss:::::s                a::::a      nn:::::::::::::::nu::::u    u::::u  m::::::::::::::::::::::m\n",
      "G:::::G    G::::::::Gu::::u    u::::u  e:::::::eeeee::::::e s:::::s  ssssss  s:::::s  ssssss          aaaaaaa:::::a        n:::::nnnn:::::nu::::u    u::::u  m:::::mmm::::::mmm:::::m\n",
      "G:::::G    GGGGG::::Gu::::u    u::::u  e:::::::::::::::::e    s::::::s         s::::::s             aa::::::::::::a        n::::n    n::::nu::::u    u::::u  m::::m   m::::m   m::::m\n",
      "G:::::G        G::::Gu::::u    u::::u  e::::::eeeeeeeeeee        s::::::s         s::::::s         a::::aaaa::::::a        n::::n    n::::nu::::u    u::::u  m::::m   m::::m   m::::m\n",
      " G:::::G       G::::Gu:::::uuuu:::::u  e:::::::e           ssssss   s:::::s ssssss   s:::::s      a::::a    a:::::a        n::::n    n::::nu:::::uuuu:::::u  m::::m   m::::m   m::::m\n",
      "  G:::::GGGGGGGG::::Gu:::::::::::::::uue::::::::e          s:::::ssss::::::ss:::::ssss::::::s     a::::a    a:::::a        n::::n    n::::nu:::::::::::::::uum::::m   m::::m   m::::m\n",
      "   GG:::::::::::::::G u:::::::::::::::u e::::::::eeeeeeee  s::::::::::::::s s::::::::::::::s      a:::::aaaa::::::a        n::::n    n::::n u:::::::::::::::um::::m   m::::m   m::::m\n",
      "     GGG::::::GGG:::G  uu::::::::uu:::u  ee:::::::::::::e   s:::::::::::ss   s:::::::::::ss        a::::::::::aa:::a       n::::n    n::::n  uu::::::::uu:::um::::m   m::::m   m::::m\n",
      "        GGGGGG   GGGG    uuuuuuuu  uuuu    eeeeeeeeeeeeee    sssssssssss      sssssssssss           aaaaaaaaaa  aaaa       nnnnnn    nnnnnn    uuuuuuuu  uuuummmmmm   mmmmmm   mmmmmm\n",
      "\n",
      "Welcome to the Number Guessing Game!\n",
      "I'm thinking of a number between 1 and 100.\n",
      "You have 10 attempts remaining to guess the number!\n",
      "Too low\n",
      "Guess again.\n",
      "You have 9 attempts remaining to guess the number!\n",
      "Too low\n",
      "Guess again.\n",
      "You have 8 attempts remaining to guess the number!\n",
      "Too high\n",
      "Guess again.\n",
      "You have 7 attempts remaining to guess the number!\n",
      "Too high\n",
      "Guess again.\n",
      "You have 6 attempts remaining to guess the number!\n",
      "Too low\n",
      "Guess again.\n",
      "You have 5 attempts remaining to guess the number!\n",
      "Too high\n",
      "Guess again.\n",
      "You have 4 attempts remaining to guess the number!\n",
      "Too high\n",
      "Guess again.\n",
      "You have 3 attempts remaining to guess the number!\n",
      "\n",
      "iiii                   \n",
      "                                                                                                         i::::i                  \n",
      "                                                                                                          iiii                   \n",
      "                                                                                                                                 \n",
      "yyyyyyy           yyyyyyy ooooooooooo   uuuuuu    uuuuuu       wwwwwww           wwwww           wwwwwwwiiiiiiinnnn  nnnnnnnn    \n",
      " y:::::y         y:::::yoo:::::::::::oo u::::u    u::::u        w:::::w         w:::::w         w:::::w i:::::in:::nn::::::::nn  \n",
      "  y:::::y       y:::::yo:::::::::::::::ou::::u    u::::u         w:::::w       w:::::::w       w:::::w   i::::in::::::::::::::nn \n",
      "   y:::::y     y:::::y o:::::ooooo:::::ou::::u    u::::u          w:::::w     w:::::::::w     w:::::w    i::::inn:::::::::::::::n\n",
      "    y:::::y   y:::::y  o::::o     o::::ou::::u    u::::u           w:::::w   w:::::w:::::w   w:::::w     i::::i  n:::::nnnn:::::n\n",
      "     y:::::y y:::::y   o::::o     o::::ou::::u    u::::u            w:::::w w:::::w w:::::w w:::::w      i::::i  n::::n    n::::n\n",
      "      y:::::y:::::y    o::::o     o::::ou::::u    u::::u             w:::::w:::::w   w:::::w:::::w       i::::i  n::::n    n::::n\n",
      "       y:::::::::y     o::::o     o::::ou:::::uuuu:::::u              w:::::::::w     w:::::::::w        i::::i  n::::n    n::::n\n",
      "        y:::::::y      o:::::ooooo:::::ou:::::::::::::::uu             w:::::::w       w:::::::w        i::::::i n::::n    n::::n\n",
      "         y:::::y       o:::::::::::::::o u:::::::::::::::u              w:::::w         w:::::w         i::::::i n::::n    n::::n\n",
      "        y:::::y         oo:::::::::::oo   uu::::::::uu:::u               w:::w           w:::w          i::::::i n::::n    n::::n\n",
      "       y:::::y            ooooooooooo       uuuuuuuu  uuuu                www             www           iiiiiiii nnnnnn    nnnnnn\n",
      "      y:::::y                                                                                                                    \n",
      "     y:::::y                                                                                                                     \n",
      "    y:::::y                                                                                                                      \n",
      "   y:::::y                                                                                                                       \n",
      "  yyyyyyy \n",
      "\n",
      "You got it! The answer was 66.\n",
      "None\n"
     ]
    }
   ],
   "source": [
    "from random import randint\n",
    "from art import logo\n",
    "from art import congrat_logo\n",
    "\n",
    "\n",
    "def continue_game1():\n",
    "    print(logo)\n",
    "\n",
    "    easy_level = 10\n",
    "    hard_level = 5\n",
    "    answer = randint(1, 100)\n",
    "\n",
    "    print(\"Welcome to the Number Guessing Game!\")\n",
    "    print(\"I'm thinking of a number between 1 and 100.\")\n",
    "\n",
    "\n",
    "    def choosing_difficulty():\n",
    "        level = input(\"Choose a difficulty. Type 'easy' or 'hard': \")\n",
    "        if level == \"easy\":\n",
    "            return easy_level\n",
    "        else:\n",
    "            return hard_level\n",
    "\n",
    "    def checking_answer(user_guess, actual_answer):\n",
    "        if user_guess > actual_answer:\n",
    "            print(\"Too high\\nGuess again.\")\n",
    "            return False\n",
    "        elif user_guess < actual_answer:\n",
    "            print(\"Too low\\nGuess again.\")\n",
    "            return False\n",
    "        else:\n",
    "            print(f'You got it! The answer was {actual_answer}.\\n{print(congrat_logo)}')\n",
    "            return True\n",
    "\n",
    "    turns = choosing_difficulty()\n",
    "    guess = 0\n",
    "    game_over = False\n",
    "\n",
    "    while not game_over and turns > 0:\n",
    "        print(f'You have {turns} attempts remaining to guess the number!')\n",
    "        guess = int(input(\"Make a guess: \"))\n",
    "        game_over = checking_answer(guess, answer)\n",
    "        \n",
    "        if not game_over:\n",
    "            turns -= 1\n",
    "\n",
    "        if turns == 0 and guess != answer:\n",
    "            print(f\"You've run out of guesses, you lose. The answer was {answer}.\")\n",
    "\n",
    "continue_game1()"
   ]
  }
 ],
 "metadata": {
  "kernelspec": {
   "display_name": "Python 3",
   "language": "python",
   "name": "python3"
  },
  "language_info": {
   "codemirror_mode": {
    "name": "ipython",
    "version": 3
   },
   "file_extension": ".py",
   "mimetype": "text/x-python",
   "name": "python",
   "nbconvert_exporter": "python",
   "pygments_lexer": "ipython3",
   "version": "3.12.4"
  }
 },
 "nbformat": 4,
 "nbformat_minor": 2
}
