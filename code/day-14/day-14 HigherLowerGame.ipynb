{
 "cells": [
  {
   "cell_type": "code",
   "execution_count": 1,
   "metadata": {},
   "outputs": [
    {
     "ename": "SyntaxError",
     "evalue": "invalid syntax. Perhaps you forgot a comma? (data_format.py, line 20)",
     "output_type": "error",
     "traceback": [
      "Traceback \u001b[1;36m(most recent call last)\u001b[0m:\n",
      "\u001b[0m  File \u001b[0;32m~\\AppData\\Roaming\\Python\\Python312\\site-packages\\IPython\\core\\interactiveshell.py:3577\u001b[0m in \u001b[0;35mrun_code\u001b[0m\n    exec(code_obj, self.user_global_ns, self.user_ns)\u001b[0m\n",
      "\u001b[1;36m  Cell \u001b[1;32mIn[1], line 3\u001b[1;36m\n\u001b[1;33m    from data_format import data\u001b[1;36m\n",
      "\u001b[1;36m  File \u001b[1;32md:\\coding\\100-days-of-code\\code\\day-14\\data_format.py:20\u001b[1;36m\u001b[0m\n\u001b[1;33m    {\u001b[0m\n\u001b[1;37m    ^\u001b[0m\n\u001b[1;31mSyntaxError\u001b[0m\u001b[1;31m:\u001b[0m invalid syntax. Perhaps you forgot a comma?\n"
     ]
    }
   ],
   "source": [
    "from art import logo\n",
    "from art import vs_logo\n",
    "from data_format import data\n",
    "import random\n",
    "print(logo)\n",
    "\n",
    "continue_game = True\n",
    "acc_b = random.choice(data)\n",
    "\n",
    "\n",
    "while continue_game:\n",
    "    def format_data(account):\n",
    "        acc_name = account[\"name\"]\n",
    "        acc_desc = account[\"description\"] \n",
    "        acc_country = account[\"country\"]\n",
    "        return f'{acc_name}, a {acc_desc}, from {acc_country}'\n",
    "\n",
    "    def checking_ans(user_guess, a_followers, b_followers):\n",
    "        if a_followers > b_followers:\n",
    "            return guess == 'a'\n",
    "        else:\n",
    "            return guess == 'b'\n",
    "\n",
    "\n",
    "\n",
    "    acc_a = acc_b\n",
    "    acc_b = random.choice(data)\n",
    "    if acc_a == acc_b:\n",
    "        acc_b = random.choice(data)\n",
    "\n",
    "    print(f'Compare A: {format_data(acc_a)}')\n",
    "    print(vs_logo)\n",
    "    print(f'Compare B: {format_data(acc_b)}')\n",
    "\n",
    "    guess = input(\"Who has more followers? Type 'A' or 'B': \").lower()\n",
    "\n",
    "\n",
    "    a_follower_c = acc_a[\"follower_count\"]\n",
    "    b_follower_c = acc_b[\"follower_count\"]\n",
    "    correct = checking_ans(guess, a_follower_c, b_follower_c)\n",
    "\n",
    "    score = 0\n",
    "\n",
    "    if correct:\n",
    "        score += 1\n",
    "        print(f\"You're right! Current score: {score}\")\n",
    "    else:\n",
    "        print(f\"Sorry, that's wrong. Final score: {score}\")\n",
    "        continue_game = False"
   ]
  }
 ],
 "metadata": {
  "kernelspec": {
   "display_name": "Python 3",
   "language": "python",
   "name": "python3"
  },
  "language_info": {
   "codemirror_mode": {
    "name": "ipython",
    "version": 3
   },
   "file_extension": ".py",
   "mimetype": "text/x-python",
   "name": "python",
   "nbconvert_exporter": "python",
   "pygments_lexer": "ipython3",
   "version": "3.12.4"
  }
 },
 "nbformat": 4,
 "nbformat_minor": 2
}
