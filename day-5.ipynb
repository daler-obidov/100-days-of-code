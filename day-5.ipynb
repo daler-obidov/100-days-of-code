{
  "nbformat": 4,
  "nbformat_minor": 0,
  "metadata": {
    "colab": {
      "provenance": [],
      "authorship_tag": "ABX9TyM4TxVkG8sfYl/RKJMrwldR",
      "include_colab_link": true
    },
    "kernelspec": {
      "name": "python3",
      "display_name": "Python 3"
    },
    "language_info": {
      "name": "python"
    }
  },
  "cells": [
    {
      "cell_type": "markdown",
      "metadata": {
        "id": "view-in-github",
        "colab_type": "text"
      },
      "source": [
        "<a href=\"https://colab.research.google.com/github/daler-obidov/100-days-of-code/blob/main/day-5.ipynb\" target=\"_parent\"><img src=\"https://colab.research.google.com/assets/colab-badge.svg\" alt=\"Open In Colab\"/></a>"
      ]
    },
    {
      "cell_type": "code",
      "execution_count": null,
      "metadata": {
        "colab": {
          "base_uri": "https://localhost:8080/"
        },
        "id": "G6dTFNSs-z6o",
        "outputId": "7b491028-cf6f-4e85-f17b-859641768226"
      },
      "outputs": [
        {
          "output_type": "stream",
          "name": "stdout",
          "text": [
            "Bukhara\n",
            "Uzb Samarkand\n",
            "['Samarkand', 'Tashkent', 'Bukhara']\n",
            "\n",
            "Bukhara\n",
            "Uzb Tashkent\n",
            "['Samarkand', 'Tashkent', 'Bukhara']\n",
            "\n",
            "Bukhara\n",
            "Uzb Bukhara\n",
            "['Samarkand', 'Tashkent', 'Bukhara']\n",
            "\n",
            "['Samarkand', 'Tashkent', 'Bukhara']\n"
          ]
        }
      ],
      "source": [
        "cities = [\"Samarkand\", \"Tashkent\", \"Bukhara\"]\n",
        "\n",
        "for city in cities:\n",
        "  print(i)\n",
        "  print(\"Uzb \" + city)\n",
        "  print(f\"{cities}\\n\")\n",
        "print(cities)"
      ]
    },
    {
      "cell_type": "code",
      "source": [
        "student_heights = input().split()\n",
        "for n in range(0, len(student_heights)):\n",
        "  student_heights[n] = int(student_heights[n])\n",
        "\n",
        "total_heights = 0\n",
        "for height in student_heights:\n",
        "  total_heights += height\n",
        "print(f\"total height = {total_heights}\")\n",
        "\n",
        "students = 0\n",
        "for student in student_heights:\n",
        "  students += 1\n",
        "print(f\"number of students = {students}\")\n",
        "\n",
        "av_height = round(total_heights / students)\n",
        "print(f\"average height = {av_height}\")"
      ],
      "metadata": {
        "colab": {
          "base_uri": "https://localhost:8080/"
        },
        "id": "1TJkFLOeJEAx",
        "outputId": "51155774-bbe5-490e-a9c0-7ea98c1177f6"
      },
      "execution_count": null,
      "outputs": [
        {
          "output_type": "stream",
          "name": "stdout",
          "text": [
            "172 178 278 123\n",
            "total height = 751\n",
            "number of students = 4\n",
            "average height = 188\n"
          ]
        }
      ]
    },
    {
      "cell_type": "code",
      "source": [
        "#Hi man"
      ],
      "metadata": {
        "id": "hMHC9MQlB_oO"
      },
      "execution_count": null,
      "outputs": []
    }
  ]
}