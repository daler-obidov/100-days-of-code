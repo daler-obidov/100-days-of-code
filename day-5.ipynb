{
  "nbformat": 4,
  "nbformat_minor": 0,
  "metadata": {
    "colab": {
      "provenance": [],
      "authorship_tag": "ABX9TyPBb8m+dHxcsqD1J4UrbhhX",
      "include_colab_link": true
    },
    "kernelspec": {
      "name": "python3",
      "display_name": "Python 3"
    },
    "language_info": {
      "name": "python"
    }
  },
  "cells": [
    {
      "cell_type": "markdown",
      "metadata": {
        "id": "view-in-github",
        "colab_type": "text"
      },
      "source": [
        "<a href=\"https://colab.research.google.com/github/daler-obidov/100-days-of-code/blob/main/day-5.ipynb\" target=\"_parent\"><img src=\"https://colab.research.google.com/assets/colab-badge.svg\" alt=\"Open In Colab\"/></a>"
      ]
    },
    {
      "cell_type": "code",
      "execution_count": 5,
      "metadata": {
        "colab": {
          "base_uri": "https://localhost:8080/"
        },
        "id": "G6dTFNSs-z6o",
        "outputId": "9523116a-188c-4afc-c86c-6533debb2e09"
      },
      "outputs": [
        {
          "output_type": "stream",
          "name": "stdout",
          "text": [
            "Samarkand\n",
            "Uzb Samarkand\n",
            "['Samarkand', 'Tashkent', 'Bukhara']\n",
            "\n",
            "Tashkent\n",
            "Uzb Tashkent\n",
            "['Samarkand', 'Tashkent', 'Bukhara']\n",
            "\n",
            "Bukhara\n",
            "Uzb Bukhara\n",
            "['Samarkand', 'Tashkent', 'Bukhara']\n",
            "\n",
            "Bukhara\n"
          ]
        }
      ],
      "source": [
        "cities = [\"Samarkand\", \"Tashkent\", \"Bukhara\"]\n",
        "\n",
        "for city in cities:\n",
        "  print(city)\n",
        "  print(\"Uzb \" + city)\n",
        "  print(f\"{cities}\\n\")\n",
        "print(city)"
      ]
    },
    {
      "cell_type": "code",
      "source": [
        "student_heights = input().split()\n",
        "for n in range(0, len(student_heights)):\n",
        "  student_heights[n] = int(student_heights[n])\n",
        "\n",
        "total_heights = 0\n",
        "for height in student_heights:\n",
        "  total_heights += height\n",
        "print(f\"total height = {total_heights}\")\n",
        "\n",
        "students = 0\n",
        "for student in student_heights:\n",
        "  students += 1\n",
        "print(f\"number of students = {students}\")\n",
        "\n",
        "av_height = round(total_heights / students)\n",
        "print(f\"average height = {av_height}\")"
      ],
      "metadata": {
        "colab": {
          "base_uri": "https://localhost:8080/"
        },
        "id": "1TJkFLOeJEAx",
        "outputId": "51155774-bbe5-490e-a9c0-7ea98c1177f6"
      },
      "execution_count": null,
      "outputs": [
        {
          "output_type": "stream",
          "name": "stdout",
          "text": [
            "172 178 278 123\n",
            "total height = 751\n",
            "number of students = 4\n",
            "average height = 188\n"
          ]
        }
      ]
    },
    {
      "cell_type": "code",
      "source": [
        "# Input a list of student scores\n",
        "student_scores = input().split()\n",
        "for n in range(0, len(student_scores)):\n",
        "  student_scores[n] = int(student_scores[n])\n",
        "\n",
        "\n",
        "# Write your code below this row 👇\n",
        "\n",
        "\n",
        "highest_score = 0\n",
        "for score in student_scores:\n",
        "  if score > highest_score:\n",
        "    highest_score = score\n",
        "\n",
        "\n",
        "\n",
        "print(\"The highest score in the class is: \" + str(highest_score))"
      ],
      "metadata": {
        "id": "hMHC9MQlB_oO",
        "outputId": "d168b5cf-26ea-4cd0-bec6-738355630ec2",
        "colab": {
          "base_uri": "https://localhost:8080/"
        }
      },
      "execution_count": 6,
      "outputs": [
        {
          "output_type": "stream",
          "name": "stdout",
          "text": [
            "34 45 645 234 654\n",
            "The highest score in the class is: 654\n"
          ]
        }
      ]
    },
    {
      "cell_type": "code",
      "source": [
        "# Input a list of student scores\n",
        "student_scores = input().split()\n",
        "\n",
        "highest_score = max(student_scores)\n",
        "\n",
        "\n",
        "print(\"The highest score in the class is: \" + str(highest_score))"
      ],
      "metadata": {
        "id": "cDY5d29xHskz",
        "outputId": "6975dbcd-d498-4ccf-b073-722b529aa8b0",
        "colab": {
          "base_uri": "https://localhost:8080/"
        }
      },
      "execution_count": 7,
      "outputs": [
        {
          "output_type": "stream",
          "name": "stdout",
          "text": [
            "34 456 567 768\n",
            "The highest score in the class is: 768\n"
          ]
        }
      ]
    },
    {
      "cell_type": "code",
      "source": [
        "#For loop with range\n",
        "# for number in range(1, 11, 3):\n",
        "#      print(number)\n",
        "\n",
        "\n",
        "\n",
        "for i in range(0, 101, 5):\n",
        "   print(i)\n",
        "\n",
        "\n",
        "\n",
        "sum = 0\n",
        "for i in range(1, 101):\n",
        "  sum += i\n",
        "print(sum)"
      ],
      "metadata": {
        "id": "eB6sPjrzIzA7",
        "outputId": "38c9975c-bf88-4dd8-8d8b-57ed673b80b2",
        "colab": {
          "base_uri": "https://localhost:8080/"
        }
      },
      "execution_count": 26,
      "outputs": [
        {
          "output_type": "stream",
          "name": "stdout",
          "text": [
            "0\n",
            "5\n",
            "10\n",
            "15\n",
            "20\n",
            "25\n",
            "30\n",
            "35\n",
            "40\n",
            "45\n",
            "50\n",
            "55\n",
            "60\n",
            "65\n",
            "70\n",
            "75\n",
            "80\n",
            "85\n",
            "90\n",
            "95\n",
            "100\n",
            "5050\n"
          ]
        }
      ]
    },
    {
      "cell_type": "code",
      "source": [
        "target = int(input()) # Enter a number between 0 and 1000\n",
        "# 🚨 Do not change the code above ☝️\n",
        "\n",
        "# Write your code here 👇\n",
        "\n",
        "total = 0\n",
        "\n",
        "for target in range(2, target + 1, 2):\n",
        "  total += target\n",
        "print(total)\n",
        ""
      ],
      "metadata": {
        "id": "3SD48P2VN_nE",
        "outputId": "30eb9ab2-7467-4063-b9f4-93bc26fd279e",
        "colab": {
          "base_uri": "https://localhost:8080/"
        }
      },
      "execution_count": 27,
      "outputs": [
        {
          "output_type": "stream",
          "name": "stdout",
          "text": [
            "52\n",
            "702\n"
          ]
        }
      ]
    },
    {
      "cell_type": "code",
      "source": [
        "# Write your code here 👇\n",
        "\n",
        "for i in range(1, 101):\n",
        "  if i % 3 == 0 and i % 5 == 0:\n",
        "    print(\"FizzBuzz\")\n",
        "  elif i % 3 == 0:\n",
        "    print(\"Fizz\")\n",
        "  elif i % 5 == 0:\n",
        "    print(\"Buzz\")\n",
        "  else:\n",
        "    print(i)\n"
      ],
      "metadata": {
        "id": "0GPAzMfYQ0ou",
        "outputId": "f572f367-76d8-43ad-b7ac-05f9466e2f9d",
        "colab": {
          "base_uri": "https://localhost:8080/"
        }
      },
      "execution_count": 29,
      "outputs": [
        {
          "output_type": "stream",
          "name": "stdout",
          "text": [
            "1\n",
            "2\n",
            "Fizz\n",
            "4\n",
            "Buzz\n",
            "Fizz\n",
            "7\n",
            "8\n",
            "Fizz\n",
            "Buzz\n",
            "11\n",
            "Fizz\n",
            "13\n",
            "14\n",
            "FizzBuzz\n",
            "16\n",
            "17\n",
            "Fizz\n",
            "19\n",
            "Buzz\n",
            "Fizz\n",
            "22\n",
            "23\n",
            "Fizz\n",
            "Buzz\n",
            "26\n",
            "Fizz\n",
            "28\n",
            "29\n",
            "FizzBuzz\n",
            "31\n",
            "32\n",
            "Fizz\n",
            "34\n",
            "Buzz\n",
            "Fizz\n",
            "37\n",
            "38\n",
            "Fizz\n",
            "Buzz\n",
            "41\n",
            "Fizz\n",
            "43\n",
            "44\n",
            "FizzBuzz\n",
            "46\n",
            "47\n",
            "Fizz\n",
            "49\n",
            "Buzz\n",
            "Fizz\n",
            "52\n",
            "53\n",
            "Fizz\n",
            "Buzz\n",
            "56\n",
            "Fizz\n",
            "58\n",
            "59\n",
            "FizzBuzz\n",
            "61\n",
            "62\n",
            "Fizz\n",
            "64\n",
            "Buzz\n",
            "Fizz\n",
            "67\n",
            "68\n",
            "Fizz\n",
            "Buzz\n",
            "71\n",
            "Fizz\n",
            "73\n",
            "74\n",
            "FizzBuzz\n",
            "76\n",
            "77\n",
            "Fizz\n",
            "79\n",
            "Buzz\n",
            "Fizz\n",
            "82\n",
            "83\n",
            "Fizz\n",
            "Buzz\n",
            "86\n",
            "Fizz\n",
            "88\n",
            "89\n",
            "FizzBuzz\n",
            "91\n",
            "92\n",
            "Fizz\n",
            "94\n",
            "Buzz\n",
            "Fizz\n",
            "97\n",
            "98\n",
            "Fizz\n",
            "Buzz\n"
          ]
        }
      ]
    },
    {
      "cell_type": "code",
      "source": [
        "#Password Generator Project\n",
        "import random\n",
        "letters = ['a', 'b', 'c', 'd', 'e', 'f', 'g', 'h', 'i', 'j', 'k', 'l', 'm', 'n', 'o', 'p', 'q', 'r', 's', 't', 'u', 'v', 'w', 'x', 'y', 'z', 'A', 'B', 'C', 'D', 'E', 'F', 'G', 'H', 'I', 'J', 'K', 'L', 'M', 'N', 'O', 'P', 'Q', 'R', 'S', 'T', 'U', 'V', 'W', 'X', 'Y', 'Z']\n",
        "numbers = ['0', '1', '2', '3', '4', '5', '6', '7', '8', '9']\n",
        "symbols = ['!', '#', '$', '%', '&', '(', ')', '*', '+']\n",
        "\n",
        "print(\"Welcome to the PyPassword Generator!\")\n",
        "letters1 = int(input(\"How many letters would you like in your password?\\n\"))\n",
        "symbols1 = int(input(f\"How many symbols would you like?\\n\"))\n",
        "numbers1 = int(input(f\"How many numbers would you like?\\n\"))\n",
        "\n",
        "password = \"\"\n",
        "\n",
        "for char in range(1, letters1 + 1):\n",
        "  password += random.choice(letters)\n",
        "\n",
        "for char in range(1, symbols1 + 1):\n",
        "  password += random.choice(symbols)\n",
        "\n",
        "for char in range(1, numbers1 + 1):\n",
        "  password += random.choice(numbers)\n",
        "\n",
        "print(\"Here is your password: \" + password)\n",
        "\n",
        "\n",
        "\n"
      ],
      "metadata": {
        "id": "2y5FHaMOV_Fk",
        "outputId": "5ee5a329-fe18-4527-d64c-23158981c68d",
        "colab": {
          "base_uri": "https://localhost:8080/"
        }
      },
      "execution_count": 40,
      "outputs": [
        {
          "output_type": "stream",
          "name": "stdout",
          "text": [
            "Welcome to the PyPassword Generator!\n",
            "How many letters would you like in your password?\n",
            "2\n",
            "How many symbols would you like?\n",
            "2\n",
            "How many numbers would you like?\n",
            "2\n",
            "Here is your password: fM)*30\n"
          ]
        }
      ]
    },
    {
      "cell_type": "code",
      "source": [
        "#Password Generator Project\n",
        "import random\n",
        "letters = ['a', 'b', 'c', 'd', 'e', 'f', 'g', 'h', 'i', 'j', 'k', 'l', 'm', 'n', 'o', 'p', 'q', 'r', 's', 't', 'u', 'v', 'w', 'x', 'y', 'z', 'A', 'B', 'C', 'D', 'E', 'F', 'G', 'H', 'I', 'J', 'K', 'L', 'M', 'N', 'O', 'P', 'Q', 'R', 'S', 'T', 'U', 'V', 'W', 'X', 'Y', 'Z']\n",
        "numbers = ['0', '1', '2', '3', '4', '5', '6', '7', '8', '9']\n",
        "symbols = ['!', '#', '$', '%', '&', '(', ')', '*', '+']\n",
        "\n",
        "print(\"Welcome to the PyPassword Generator!\")\n",
        "letters1 = int(input(\"How many letters would you like in your password?\\n\"))\n",
        "symbols1 = int(input(f\"How many symbols would you like?\\n\"))\n",
        "numbers1 = int(input(f\"How many numbers would you like?\\n\"))\n",
        "\n",
        "\n",
        "\n",
        "\n",
        "password_list = []\n",
        "\n",
        "for char in range(1, letters1 + 1):\n",
        "  password_list.append(random.choice(letters))\n",
        "\n",
        "for char in range(1, symbols1 + 1):\n",
        "  password_list += random.choice(symbols)\n",
        "\n",
        "for char in range(1, numbers1 + 1):\n",
        "  password_list += random.choice(numbers)\n",
        "\n",
        "\n",
        "password = \"\"\n",
        "for char in password_list:\n",
        "  password += char\n",
        "\n",
        "print(f\"Your password is: {password}\")"
      ],
      "metadata": {
        "id": "WpBMiePaWuSW",
        "outputId": "1c046794-4d5b-4f8e-c99a-219e3d917024",
        "colab": {
          "base_uri": "https://localhost:8080/"
        }
      },
      "execution_count": 43,
      "outputs": [
        {
          "output_type": "stream",
          "name": "stdout",
          "text": [
            "Welcome to the PyPassword Generator!\n",
            "How many letters would you like in your password?\n",
            "23\n",
            "How many symbols would you like?\n",
            "12\n",
            "How many numbers would you like?\n",
            "34\n",
            "Your password is: ibmRxJDQkaXmVofDmByncIE+)!*!%&)*&)(6828260571058508110721879804169541\n"
          ]
        }
      ]
    }
  ]
}